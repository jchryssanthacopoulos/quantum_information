{
 "cells": [
  {
   "cell_type": "markdown",
   "metadata": {},
   "source": [
    "## Plot Results of Solving Ising Model using Real Space Renormalizaton Group"
   ]
  },
  {
   "cell_type": "code",
   "execution_count": 1,
   "metadata": {},
   "outputs": [],
   "source": [
    "import matplotlib.pyplot as plt\n",
    "import numpy as np\n",
    "import os\n",
    "import subprocess"
   ]
  },
  {
   "cell_type": "code",
   "execution_count": 2,
   "metadata": {},
   "outputs": [],
   "source": [
    "def mean_field_energy_density(lmbda):\n",
    "    if np.abs(lmbda) <= 2:\n",
    "        return -1 - lmbda ** 2 / 4\n",
    "    return -np.abs(lmbda)"
   ]
  },
  {
   "cell_type": "code",
   "execution_count": 3,
   "metadata": {},
   "outputs": [],
   "source": [
    "compiled_dir = f\"..{os.sep}compiled\"\n",
    "data_dir = f\"..{os.sep}data\"\n",
    "plot_dir = f\"..{os.sep}plots\""
   ]
  },
  {
   "cell_type": "code",
   "execution_count": 4,
   "metadata": {},
   "outputs": [],
   "source": [
    "program = f\"{compiled_dir}{os.sep}rsrg_ising\""
   ]
  },
  {
   "cell_type": "code",
   "execution_count": 5,
   "metadata": {},
   "outputs": [],
   "source": [
    "N = list(range(2, 6))"
   ]
  },
  {
   "cell_type": "code",
   "execution_count": 6,
   "metadata": {},
   "outputs": [],
   "source": [
    "lam = np.arange(-5, 5.1, 0.1)"
   ]
  },
  {
   "cell_type": "code",
   "execution_count": 7,
   "metadata": {},
   "outputs": [],
   "source": [
    "gs_energy = np.zeros((len(N), len(lam)))\n",
    "gs_energy[:] = np.nan"
   ]
  },
  {
   "cell_type": "code",
   "execution_count": 8,
   "metadata": {},
   "outputs": [],
   "source": [
    "max_iterations = np.zeros((len(N), len(lam)))\n",
    "max_iterations[:] = np.nan"
   ]
  },
  {
   "cell_type": "code",
   "execution_count": null,
   "metadata": {},
   "outputs": [
    {
     "name": "stdout",
     "output_type": "stream",
     "text": [
      "Running N = 2 ...\n",
      "Running N = 3 ...\n",
      "Running N = 4 ...\n",
      "Running N = 5 ...\n"
     ]
    }
   ],
   "source": [
    "for i in range(len(N)):\n",
    "    print(f\"Running N = {N[i]} ...\")\n",
    "    for j in range(len(lam)):\n",
    "        output = subprocess.run(\n",
    "            [program, \"--N\", str(N[i]), \"--lambda\", str(lam[j])],\n",
    "            stdout=subprocess.PIPE,\n",
    "            encoding=\"ascii\"\n",
    "        )\n",
    "\n",
    "        results = output.stdout.split(\"\\n\")\n",
    "\n",
    "        did_converge = results[8].split(\"=\")[1].strip()\n",
    "\n",
    "        if did_converge == \"T\":\n",
    "            gs_energy[i, j] = float(results[6].split(\"=\")[1])\n",
    "            max_iterations[i, j] = int(results[7].split(\"=\")[1])"
   ]
  },
  {
   "cell_type": "code",
   "execution_count": null,
   "metadata": {},
   "outputs": [],
   "source": [
    "max_iterations"
   ]
  },
  {
   "cell_type": "code",
   "execution_count": null,
   "metadata": {},
   "outputs": [],
   "source": [
    "gs_energy"
   ]
  },
  {
   "cell_type": "code",
   "execution_count": null,
   "metadata": {},
   "outputs": [],
   "source": [
    "mf_gs_energy = [mean_field_energy_density(l) for l in lam]"
   ]
  },
  {
   "cell_type": "code",
   "execution_count": null,
   "metadata": {},
   "outputs": [],
   "source": [
    "plt.plot(lam, gs_energy, \"r.-\", label=\"RSRG\")\n",
    "plt.plot(lam, mf_gs_energy, \"b-\", label=\"MF\")\n",
    "plt.xlabel(\"$\\lambda$\")\n",
    "plt.ylabel(\"$E_0/N$\")\n",
    "plt.xticks(np.arange(-5, 6, 1))\n",
    "plt.legend()\n",
    "plt.savefig(f\"{plot_dir}{os.sep}energy_vs_lambda.pdf\", format=\"pdf\", bbox_inches=\"tight\")"
   ]
  },
  {
   "cell_type": "code",
   "execution_count": null,
   "metadata": {},
   "outputs": [],
   "source": [
    "plt.plot(lam, max_iterations, \"rx-\")"
   ]
  },
  {
   "cell_type": "code",
   "execution_count": null,
   "metadata": {},
   "outputs": [],
   "source": []
  }
 ],
 "metadata": {
  "kernelspec": {
   "display_name": "Python 3 (ipykernel)",
   "language": "python",
   "name": "python3"
  },
  "language_info": {
   "codemirror_mode": {
    "name": "ipython",
    "version": 3
   },
   "file_extension": ".py",
   "mimetype": "text/x-python",
   "name": "python",
   "nbconvert_exporter": "python",
   "pygments_lexer": "ipython3",
   "version": "3.10.3"
  },
  "vscode": {
   "interpreter": {
    "hash": "28048a3710f5e748db865877f52ccdd715a7a41a4c531137fa656997303b8520"
   }
  }
 },
 "nbformat": 4,
 "nbformat_minor": 2
}
