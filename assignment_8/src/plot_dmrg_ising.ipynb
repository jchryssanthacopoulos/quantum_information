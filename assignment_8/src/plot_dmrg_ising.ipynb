{
 "cells": [
  {
   "cell_type": "markdown",
   "metadata": {},
   "source": [
    "## Plot Results of Solving Ising Model using Density Matrix Renormalizaton Group"
   ]
  },
  {
   "cell_type": "code",
   "execution_count": 1,
   "metadata": {},
   "outputs": [],
   "source": [
    "import matplotlib.pyplot as plt\n",
    "import numpy as np\n",
    "import os\n",
    "import subprocess"
   ]
  },
  {
   "cell_type": "code",
   "execution_count": 2,
   "metadata": {},
   "outputs": [],
   "source": [
    "def mean_field_energy_density(lmbda):\n",
    "    if np.abs(lmbda) <= 2:\n",
    "        return -1 - lmbda ** 2 / 4\n",
    "    return -np.abs(lmbda)"
   ]
  },
  {
   "cell_type": "code",
   "execution_count": 3,
   "metadata": {},
   "outputs": [],
   "source": [
    "compiled_dir = f\"..{os.sep}compiled\"\n",
    "data_dir = f\"..{os.sep}data\"\n",
    "plot_dir = f\"..{os.sep}plots\""
   ]
  },
  {
   "cell_type": "code",
   "execution_count": 8,
   "metadata": {},
   "outputs": [],
   "source": [
    "program = f\"{compiled_dir}{os.sep}dmrg_ising\""
   ]
  },
  {
   "cell_type": "code",
   "execution_count": 9,
   "metadata": {},
   "outputs": [],
   "source": [
    "N = list(range(2, 3))"
   ]
  },
  {
   "cell_type": "code",
   "execution_count": 10,
   "metadata": {},
   "outputs": [],
   "source": [
    "lam = np.arange(-5, 5.1, 0.1)"
   ]
  },
  {
   "cell_type": "code",
   "execution_count": 11,
   "metadata": {},
   "outputs": [],
   "source": [
    "gs_energy = np.zeros((len(N), len(lam)))\n",
    "gs_energy[:] = np.nan"
   ]
  },
  {
   "cell_type": "code",
   "execution_count": 12,
   "metadata": {},
   "outputs": [],
   "source": [
    "max_iterations = np.zeros((len(N), len(lam)))\n",
    "max_iterations[:] = np.nan"
   ]
  },
  {
   "cell_type": "code",
   "execution_count": 26,
   "metadata": {},
   "outputs": [
    {
     "name": "stdout",
     "output_type": "stream",
     "text": [
      "Running N = 2 ...\n"
     ]
    }
   ],
   "source": [
    "for i in range(len(N)):\n",
    "    print(f\"Running N = {N[i]} ...\")\n",
    "    for j in range(len(lam)):\n",
    "        output = subprocess.run(\n",
    "            [program, \"--N\", str(N[i]), \"--lambda\", str(lam[j])],\n",
    "            stdout=subprocess.PIPE,\n",
    "            encoding=\"ascii\"\n",
    "        )\n",
    "\n",
    "        results = output.stdout.split(\"\\n\")\n",
    "\n",
    "        did_converge = results[8].split(\"=\")[1].strip()\n",
    "\n",
    "        #if did_converge == \"T\":\n",
    "        gs_energy[i, j] = float(results[6].split(\"=\")[1])\n",
    "        max_iterations[i, j] = int(results[7].split(\"=\")[1])"
   ]
  },
  {
   "cell_type": "code",
   "execution_count": 27,
   "metadata": {},
   "outputs": [
    {
     "data": {
      "text/plain": [
       "array([50., 50., 50., 50., 50., 50., 50., 50., 50., 50., 50., 50., 50.,\n",
       "       50., 50., 50., 50., 50., 50., 50., 50., 50., 50., 50., 50., 50.,\n",
       "       50., 50., 50., 50., 50., 50., 50., 50., 50., 50., 50., 50., 50.,\n",
       "       50., 50., 50., 50., 50., 50., 50., 50., 50., 50., 50., 50., 50.,\n",
       "       50., 50., 50., 50., 50., 50., 50., 50., 50., 50., 50., 50., 50.,\n",
       "       50., 50., 50., 50., 50., 50., 50., 50., 50., 50., 50., 50., 50.,\n",
       "       50., 50., 50., 50., 50., 50., 50., 50., 50., 50., 50., 50., 50.,\n",
       "       50., 50., 50., 50., 50., 50., 50., 50., 50., 50.])"
      ]
     },
     "execution_count": 27,
     "metadata": {},
     "output_type": "execute_result"
    }
   ],
   "source": [
    "max_iterations[0]"
   ]
  },
  {
   "cell_type": "code",
   "execution_count": 28,
   "metadata": {},
   "outputs": [
    {
     "data": {
      "text/plain": [
       "array([19.8018, 17.7505, 18.1569, 17.5393, 16.434 , 17.9246, 17.34  ,\n",
       "       19.3245, 15.7316, 20.141 , 17.5283, 14.631 , 16.6249, 16.5303,\n",
       "       17.8774, 16.9236, 16.8458, 14.1135, 16.4012, 17.5794, 17.9098,\n",
       "       18.1301, 16.7744, 17.0363, 15.1481, 14.0761, 16.3117, 16.7656,\n",
       "       16.1432, 16.6906, 17.2481, 17.2827, 14.9338, 17.3325, 16.977 ,\n",
       "       16.5574, 15.714 , 17.818 , 17.7138, 15.8326, 17.7702, 14.383 ,\n",
       "       17.7474, 17.1537, 14.8136, 17.6861, 15.4   , 16.961 , 18.3678,\n",
       "       16.2946, 17.0772, 16.2648, 14.8383, 17.8214, 15.5002, 17.2552,\n",
       "       15.8052, 17.8438, 18.4661, 15.4685, 16.955 , 18.0707, 16.1966,\n",
       "       16.801 , 17.8913, 17.8082, 16.7224, 18.2673, 17.4299, 18.4187,\n",
       "       16.7216, 15.5216, 14.2697, 16.5921, 16.7978, 17.6644, 17.678 ,\n",
       "       15.9511, 18.7732, 17.7329, 15.565 , 17.228 , 16.9135, 16.8108,\n",
       "       15.4614, 16.8826, 14.9993, 17.457 , 17.2144, 18.528 , 18.8813,\n",
       "       19.2627, 15.164 , 19.667 , 16.0834, 15.7534, 14.4576, 18.8018,\n",
       "       19.5125, 17.4566, 18.191 ])"
      ]
     },
     "execution_count": 28,
     "metadata": {},
     "output_type": "execute_result"
    }
   ],
   "source": [
    "gs_energy[0]"
   ]
  },
  {
   "cell_type": "code",
   "execution_count": 29,
   "metadata": {},
   "outputs": [],
   "source": [
    "mf_gs_energy = [mean_field_energy_density(l) for l in lam]"
   ]
  },
  {
   "cell_type": "code",
   "execution_count": 31,
   "metadata": {},
   "outputs": [
    {
     "data": {
      "image/png": "[encoded data removed]",
      "text/plain": [
       "<Figure size 640x480 with 1 Axes>"
      ]
     },
     "metadata": {},
     "output_type": "display_data"
    }
   ],
   "source": [
    "plt.plot(lam, gs_energy[0], \"r.-\", label=\"RSRG\")\n",
    "plt.plot(lam, mf_gs_energy, \"b-\", label=\"MF\")\n",
    "plt.xlabel(\"$\\lambda$\")\n",
    "plt.ylabel(\"$E_0/N$\")\n",
    "plt.xticks(np.arange(-5, 6, 1))\n",
    "plt.legend()\n",
    "plt.savefig(f\"{plot_dir}{os.sep}energy_vs_lambda_dmrg.pdf\", format=\"pdf\", bbox_inches=\"tight\")"
   ]
  }
 ],
 "metadata": {
  "kernelspec": {
   "display_name": "Python 3 (ipykernel)",
   "language": "python",
   "name": "python3"
  },
  "language_info": {
   "codemirror_mode": {
    "name": "ipython",
    "version": 3
   },
   "file_extension": ".py",
   "mimetype": "text/x-python",
   "name": "python",
   "nbconvert_exporter": "python",
   "pygments_lexer": "ipython3",
   "version": "3.10.3"
  },
  "vscode": {
   "interpreter": {
    "hash": "28048a3710f5e748db865877f52ccdd715a7a41a4c531137fa656997303b8520"
   }
  }
 },
 "nbformat": 4,
 "nbformat_minor": 2
}
