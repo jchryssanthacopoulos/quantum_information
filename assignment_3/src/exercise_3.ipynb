{
 "cells": [
  {
   "cell_type": "markdown",
   "metadata": {},
   "source": [
    "### Random Matrix Theory"
   ]
  },
  {
   "cell_type": "code",
   "execution_count": 1,
   "metadata": {},
   "outputs": [],
   "source": [
    "import csv\n",
    "import matplotlib.pyplot as plt\n",
    "import numpy as np\n",
    "import os\n",
    "from scipy.optimize import curve_fit\n",
    "import subprocess"
   ]
  },
  {
   "cell_type": "code",
   "execution_count": 2,
   "metadata": {},
   "outputs": [],
   "source": [
    "compiled_dir = f'..{os.sep}compiled'\n",
    "plot_dir = f'..{os.sep}plots'"
   ]
  },
  {
   "cell_type": "code",
   "execution_count": 3,
   "metadata": {},
   "outputs": [],
   "source": [
    "program = f'{compiled_dir}{os.sep}exercise_2'"
   ]
  },
  {
   "cell_type": "markdown",
   "metadata": {},
   "source": [
    "#### Hermitian Matrixx"
   ]
  },
  {
   "cell_type": "code",
   "execution_count": 4,
   "metadata": {},
   "outputs": [],
   "source": [
    "output_filename = \"../data/histogram_hermitian.csv\""
   ]
  },
  {
   "cell_type": "code",
   "execution_count": 5,
   "metadata": {},
   "outputs": [
    {
     "name": "stdout",
     "output_type": "stream",
     "text": [
      " mat_type = hermitian                                         \n",
      " output_filename = ../data/histogram_hermitian.csv                   \n",
      " ndim =        1000\n",
      " nsamples =        1000\n",
      " nbins =         100\n",
      " min_val =   0.0000000000000000     \n",
      " max_val =   5.0000000000000000     \n"
     ]
    }
   ],
   "source": [
    "output = subprocess.run([\n",
    "    program,\n",
    "    \"--ndim\", \"1000\",\n",
    "    \"--nsamples\", \"1000\",\n",
    "    \"--output_filename\", output_filename\n",
    "])"
   ]
  },
  {
   "cell_type": "code",
   "execution_count": 6,
   "metadata": {},
   "outputs": [],
   "source": [
    "hist = []\n",
    "\n",
    "with open(output_filename) as f:\n",
    "    csv_reader = csv.reader(f)\n",
    "    for row in csv_reader:\n",
    "        hist.append(row)"
   ]
  },
  {
   "cell_type": "code",
   "execution_count": 7,
   "metadata": {},
   "outputs": [],
   "source": [
    "bin_centers = [float(a[1]) for a in hist[1:]]\n",
    "norm_count = [float(a[3]) for a in hist[1:]]"
   ]
  },
  {
   "cell_type": "markdown",
   "metadata": {},
   "source": [
    "Confirm the area under the curve is 1."
   ]
  },
  {
   "cell_type": "code",
   "execution_count": 8,
   "metadata": {},
   "outputs": [
    {
     "data": {
      "text/plain": [
       "0.9980960849999998"
      ]
     },
     "execution_count": 8,
     "metadata": {},
     "output_type": "execute_result"
    }
   ],
   "source": [
    "sum([n * 5/100 for n in norm_count])"
   ]
  },
  {
   "cell_type": "markdown",
   "metadata": {},
   "source": [
    "Perform fit."
   ]
  },
  {
   "cell_type": "code",
   "execution_count": 9,
   "metadata": {},
   "outputs": [],
   "source": [
    "def func(x, a, b, alpha, beta):\n",
    "    return a * x ** alpha * np.exp(b * x ** beta)"
   ]
  },
  {
   "cell_type": "code",
   "execution_count": 10,
   "metadata": {},
   "outputs": [],
   "source": [
    "popt, pcov = curve_fit(func, bin_centers, norm_count)"
   ]
  },
  {
   "cell_type": "code",
   "execution_count": 11,
   "metadata": {},
   "outputs": [
    {
     "data": {
      "text/plain": [
       "array([13.79272512, -2.82466922,  2.59653888,  1.32155578])"
      ]
     },
     "execution_count": 11,
     "metadata": {},
     "output_type": "execute_result"
    }
   ],
   "source": [
    "popt"
   ]
  },
  {
   "cell_type": "code",
   "execution_count": 12,
   "metadata": {},
   "outputs": [],
   "source": [
    "num_pts_interp = 1000\n",
    "s_interp = np.linspace(bin_centers[0], bin_centers[-1], num_pts_interp)\n",
    "y_fit = [func(s, *popt) for s in s_interp]"
   ]
  },
  {
   "cell_type": "markdown",
   "metadata": {},
   "source": [
    "Plot the result."
   ]
  },
  {
   "cell_type": "code",
   "execution_count": 13,
   "metadata": {},
   "outputs": [
    {
     "data": {
      "image/png": "[encoded data removed]",
      "text/plain": [
       "<Figure size 640x480 with 1 Axes>"
      ]
     },
     "metadata": {},
     "output_type": "display_data"
    }
   ],
   "source": [
    "plt.hist(bin_centers, bins=len(norm_count), weights=norm_count)\n",
    "plt.plot(s_interp, y_fit, 'r');"
   ]
  },
  {
   "cell_type": "markdown",
   "metadata": {},
   "source": [
    "#### Real Diagonal Matrix"
   ]
  },
  {
   "cell_type": "code",
   "execution_count": 14,
   "metadata": {},
   "outputs": [],
   "source": [
    "output_filename = \"../data/histogram_diagonal.csv\""
   ]
  },
  {
   "cell_type": "code",
   "execution_count": 15,
   "metadata": {},
   "outputs": [
    {
     "name": "stdout",
     "output_type": "stream",
     "text": [
      " mat_type = diag                                              \n",
      " output_filename = ../data/histogram_diagonal.csv                    \n",
      " ndim =        1000\n",
      " nsamples =        1000\n",
      " nbins =         100\n",
      " min_val =   0.0000000000000000     \n",
      " max_val =   5.0000000000000000     \n"
     ]
    }
   ],
   "source": [
    "output = subprocess.run([\n",
    "    program,\n",
    "    \"--mat_type\", \"diag\",\n",
    "    \"--ndim\", \"1000\",\n",
    "    \"--nsamples\", \"1000\",\n",
    "    \"--output_filename\", output_filename\n",
    "])"
   ]
  },
  {
   "cell_type": "code",
   "execution_count": 16,
   "metadata": {},
   "outputs": [],
   "source": [
    "hist = []\n",
    "\n",
    "with open(output_filename) as f:\n",
    "    csv_reader = csv.reader(f)\n",
    "    for row in csv_reader:\n",
    "        hist.append(row)"
   ]
  },
  {
   "cell_type": "code",
   "execution_count": 17,
   "metadata": {},
   "outputs": [],
   "source": [
    "bin_centers = [float(a[1]) for a in hist[1:]]\n",
    "norm_count = [float(a[3]) for a in hist[1:]]"
   ]
  },
  {
   "cell_type": "code",
   "execution_count": 18,
   "metadata": {},
   "outputs": [
    {
     "data": {
      "text/plain": [
       "0.9933313299999995"
      ]
     },
     "execution_count": 18,
     "metadata": {},
     "output_type": "execute_result"
    }
   ],
   "source": [
    "sum([n * 5/100 for n in norm_count])"
   ]
  },
  {
   "cell_type": "code",
   "execution_count": 19,
   "metadata": {},
   "outputs": [
    {
     "name": "stderr",
     "output_type": "stream",
     "text": [
      "/var/folders/29/57ctygt16nb459fzj64lth0r0000gq/T/ipykernel_45576/300280099.py:2: RuntimeWarning: overflow encountered in exp\n",
      "  return a * x ** alpha * np.exp(b * x ** beta)\n"
     ]
    }
   ],
   "source": [
    "popt, pcov = curve_fit(func, bin_centers, norm_count)"
   ]
  },
  {
   "cell_type": "code",
   "execution_count": 20,
   "metadata": {},
   "outputs": [],
   "source": [
    "s_interp = np.linspace(bin_centers[0], bin_centers[-1], num_pts_interp)\n",
    "y_fit = [func(s, *popt) for s in s_interp]"
   ]
  },
  {
   "cell_type": "code",
   "execution_count": 21,
   "metadata": {},
   "outputs": [
    {
     "data": {
      "image/png": "[encoded data removed]",
      "text/plain": [
       "<Figure size 640x480 with 1 Axes>"
      ]
     },
     "metadata": {},
     "output_type": "display_data"
    }
   ],
   "source": [
    "plt.hist(bin_centers, bins=len(norm_count), weights=norm_count)\n",
    "plt.plot(s_interp, y_fit, 'r');"
   ]
  }
 ],
 "metadata": {
  "kernelspec": {
   "display_name": "Python 3 (ipykernel)",
   "language": "python",
   "name": "python3"
  },
  "language_info": {
   "codemirror_mode": {
    "name": "ipython",
    "version": 3
   },
   "file_extension": ".py",
   "mimetype": "text/x-python",
   "name": "python",
   "nbconvert_exporter": "python",
   "pygments_lexer": "ipython3",
   "version": "3.10.3"
  },
  "vscode": {
   "interpreter": {
    "hash": "28048a3710f5e748db865877f52ccdd715a7a41a4c531137fa656997303b8520"
   }
  }
 },
 "nbformat": 4,
 "nbformat_minor": 2
}
