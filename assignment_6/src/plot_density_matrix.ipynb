{
 "cells": [
  {
   "cell_type": "markdown",
   "metadata": {},
   "source": [
    "## Plot Density Matrix"
   ]
  },
  {
   "cell_type": "code",
   "execution_count": 1,
   "metadata": {},
   "outputs": [],
   "source": [
    "import matplotlib.pyplot as plt\n",
    "import numpy as np\n",
    "import os\n",
    "import subprocess"
   ]
  },
  {
   "cell_type": "code",
   "execution_count": 10,
   "metadata": {},
   "outputs": [],
   "source": [
    "compiled_dir = f\"..{os.sep}compiled\"\n",
    "data_dir = f\"..{os.sep}data\"\n",
    "plot_dir = f\"..{os.sep}plots\""
   ]
  },
  {
   "cell_type": "code",
   "execution_count": 11,
   "metadata": {},
   "outputs": [],
   "source": [
    "output_filename = f\"{data_dir}{os.sep}density_mat_N6_D4_M3.txt\""
   ]
  },
  {
   "cell_type": "code",
   "execution_count": 45,
   "metadata": {},
   "outputs": [],
   "source": [
    "def read_density_mat_file(output_filename):\n",
    "    with open(output_filename) as f:\n",
    "        data = f.readlines()\n",
    "\n",
    "    dim_rho = int(data[0].split(\"=\")[1].strip(\"\\n\"))\n",
    "    print(dim_rho)\n",
    "\n",
    "    # extract density matrix\n",
    "    rho = np.zeros((dim_rho, dim_rho), dtype=complex)\n",
    "    idx = 2\n",
    "    for i, row_idx in enumerate(range(idx, idx + dim_rho)):\n",
    "        row_i = [x.strip(')').strip('(').split(',') for x in data[row_idx].split()]\n",
    "        rho[i] = np.array([complex(float(a[0]), float(a[1])) for a in row_i], dtype=complex)\n",
    "\n",
    "    dim_rho_reduced_L = int(data[idx + dim_rho].split(\"=\")[1].strip(\"\\n\"))\n",
    "    idx += dim_rho + 2\n",
    "    print(dim_rho_reduced_L)\n",
    "\n",
    "    # extract left reduced density matrix\n",
    "    rho_reduced_L = np.zeros((dim_rho_reduced_L, dim_rho_reduced_L), dtype=complex)\n",
    "    for i, row_idx in enumerate(range(idx, idx + dim_rho_reduced_L)):\n",
    "        row_i = [x.strip(')').strip('(').split(',') for x in data[row_idx].split()]\n",
    "        rho_reduced_L[i] = np.array([complex(float(a[0]), float(a[1])) for a in row_i], dtype=complex)\n",
    "\n",
    "    dim_rho_reduced_R = int(data[idx + dim_rho_reduced_L].split(\"=\")[1].strip(\"\\n\"))\n",
    "    idx += 2 + dim_rho_reduced_L\n",
    "    print(dim_rho_reduced_R)\n",
    "\n",
    "    # extract right reduced density matrix\n",
    "    rho_reduced_R = np.zeros((dim_rho_reduced_R, dim_rho_reduced_R), dtype=complex)\n",
    "    for i, row_idx in enumerate(range(idx, idx + dim_rho_reduced_R)):\n",
    "        row_i = [x.strip(')').strip('(').split(',') for x in data[row_idx].split()]\n",
    "        rho_reduced_R[i] = np.array([complex(float(a[0]), float(a[1])) for a in row_i], dtype=complex)\n",
    "\n",
    "    return rho, rho_reduced_R, rho_reduced_L"
   ]
  },
  {
   "cell_type": "code",
   "execution_count": 46,
   "metadata": {},
   "outputs": [
    {
     "name": "stdout",
     "output_type": "stream",
     "text": [
      "4096\n",
      "64\n",
      "64\n"
     ]
    }
   ],
   "source": [
    "rho, rho_L, rho_R = read_density_mat_file(output_filename)"
   ]
  },
  {
   "cell_type": "code",
   "execution_count": 51,
   "metadata": {},
   "outputs": [
    {
     "data": {
      "text/plain": [
       "array([[ 5.64389984e-04+2.66213510e-20j, -1.64690364e-04-1.68041878e-04j,\n",
       "         1.27535542e-04-2.23252668e-04j, ...,\n",
       "         1.12203965e-04+5.41641537e-06j, -1.89182781e-04-5.00059252e-04j,\n",
       "        -2.26559153e-04-1.07609704e-04j],\n",
       "       [-1.64690364e-04+1.68041878e-04j,  9.80899561e-05+1.56541646e-21j,\n",
       "         2.92562292e-05+1.03118193e-04j, ...,\n",
       "        -3.43540761e-05+3.18271657e-05j,  2.04091993e-04+8.95910843e-05j,\n",
       "         9.81502998e-05-3.60551121e-05j],\n",
       "       [ 1.27535542e-04+2.23252668e-04j,  2.92562292e-05-1.03118193e-04j,\n",
       "         1.17130123e-04-7.17833130e-22j, ...,\n",
       "         2.32122551e-05+4.56078611e-05j,  1.55055965e-04-1.87832689e-04j,\n",
       "        -8.62912336e-06-1.13935398e-04j],\n",
       "       ...,\n",
       "       [ 1.12203965e-04-5.41641537e-06j, -3.43540761e-05-3.18271657e-05j,\n",
       "         2.32122551e-05-4.56078611e-05j, ...,\n",
       "         2.23587725e-05+6.72677304e-22j, -4.24096589e-05-9.75990712e-05j,\n",
       "        -4.60739822e-05-1.92191521e-05j],\n",
       "       [-1.89182781e-04+5.00059252e-04j,  2.04091993e-04-8.95910843e-05j,\n",
       "         1.55055965e-04+1.87832689e-04j, ...,\n",
       "        -4.24096589e-05+9.75990712e-05j,  5.06474935e-04-1.30850433e-20j,\n",
       "         1.71286383e-04-1.64664683e-04j],\n",
       "       [-2.26559153e-04+1.07609704e-04j,  9.81502998e-05+3.60551121e-05j,\n",
       "        -8.62912336e-06+1.13935398e-04j, ...,\n",
       "        -4.60739822e-05+1.92191521e-05j,  1.71286383e-04+1.64664683e-04j,\n",
       "         1.11463527e-04+7.11799999e-22j]])"
      ]
     },
     "execution_count": 51,
     "metadata": {},
     "output_type": "execute_result"
    }
   ],
   "source": [
    "rho"
   ]
  },
  {
   "cell_type": "code",
   "execution_count": 52,
   "metadata": {},
   "outputs": [
    {
     "data": {
      "text/plain": [
       "array([[ 0.01620778-8.62773265e-21j, -0.00037015-3.01799883e-04j,\n",
       "        -0.00145457-5.84209544e-04j, ...,  0.0029658 +1.18922087e-03j,\n",
       "         0.00138195+3.58575474e-05j, -0.00114326-3.08291201e-04j],\n",
       "       [-0.00037015+3.01799883e-04j,  0.01551551-4.96939320e-20j,\n",
       "        -0.00016895+1.68567643e-03j, ..., -0.00365034+9.60086796e-04j,\n",
       "         0.000792  -6.61608367e-04j, -0.00250905+7.71921113e-04j],\n",
       "       [-0.00145457+5.84209544e-04j, -0.00016895-1.68567643e-03j,\n",
       "         0.0139729 +2.01878269e-20j, ...,  0.00183609+8.17177191e-04j,\n",
       "         0.00043074+1.20366170e-03j, -0.00083247-5.23506550e-04j],\n",
       "       ...,\n",
       "       [ 0.0029658 -1.18922087e-03j, -0.00365034-9.60086796e-04j,\n",
       "         0.00183609-8.17177191e-04j, ...,  0.01823493-1.03445735e-20j,\n",
       "        -0.00231193+3.31368375e-03j, -0.0005592 +2.65909298e-03j],\n",
       "       [ 0.00138195-3.58575474e-05j,  0.000792  +6.61608367e-04j,\n",
       "         0.00043074-1.20366170e-03j, ..., -0.00231193-3.31368375e-03j,\n",
       "         0.0150165 -6.73252320e-20j,  0.00011169-8.34062970e-04j],\n",
       "       [-0.00114326+3.08291201e-04j, -0.00250905-7.71921113e-04j,\n",
       "        -0.00083247+5.23506550e-04j, ..., -0.0005592 -2.65909298e-03j,\n",
       "         0.00011169+8.34062970e-04j,  0.01588073-2.01731831e-20j]])"
      ]
     },
     "execution_count": 52,
     "metadata": {},
     "output_type": "execute_result"
    }
   ],
   "source": [
    "rho_L"
   ]
  },
  {
   "cell_type": "code",
   "execution_count": 53,
   "metadata": {},
   "outputs": [
    {
     "data": {
      "text/plain": [
       "array([[ 1.63283415e-02+5.80616653e-21j,  7.17012312e-04-1.60754131e-03j,\n",
       "        -7.86097746e-04+1.40736091e-05j, ...,\n",
       "        -1.03687534e-03+5.07019598e-04j,  4.86271295e-04+3.00810819e-04j,\n",
       "        -1.01902312e-03-1.35715911e-03j],\n",
       "       [ 7.17012312e-04+1.60754131e-03j,  1.47611218e-02+2.18211165e-20j,\n",
       "        -1.52396463e-03-8.24929002e-04j, ...,\n",
       "        -1.96139363e-03-7.94362686e-04j, -1.66060517e-03-1.33364648e-03j,\n",
       "         6.63430701e-04+2.52435039e-03j],\n",
       "       [-7.86097746e-04-1.40736091e-05j, -1.52396463e-03+8.24929002e-04j,\n",
       "         1.33265090e-02-1.09728454e-19j, ...,\n",
       "        -1.13914351e-03-4.89667172e-04j,  3.59205419e-04+4.22619430e-04j,\n",
       "         1.44302134e-03+3.27601260e-03j],\n",
       "       ...,\n",
       "       [-1.03687534e-03-5.07019598e-04j, -1.96139363e-03+7.94362686e-04j,\n",
       "        -1.13914351e-03+4.89667172e-04j, ...,\n",
       "         1.58009115e-02+7.49071492e-21j, -1.95489072e-03-2.69884513e-04j,\n",
       "        -6.19919230e-04+1.32560883e-03j],\n",
       "       [ 4.86271295e-04-3.00810819e-04j, -1.66060517e-03+1.33364648e-03j,\n",
       "         3.59205419e-04-4.22619430e-04j, ...,\n",
       "        -1.95489072e-03+2.69884513e-04j,  1.69273597e-02+5.89339344e-22j,\n",
       "         8.43677908e-05-1.63523897e-03j],\n",
       "       [-1.01902312e-03+1.35715911e-03j,  6.63430701e-04-2.52435039e-03j,\n",
       "         1.44302134e-03-3.27601260e-03j, ...,\n",
       "        -6.19919230e-04-1.32560883e-03j,  8.43677908e-05+1.63523897e-03j,\n",
       "         1.74412852e-02-3.51146647e-20j]])"
      ]
     },
     "execution_count": 53,
     "metadata": {},
     "output_type": "execute_result"
    }
   ],
   "source": [
    "rho_R"
   ]
  },
  {
   "cell_type": "code",
   "execution_count": 2,
   "metadata": {},
   "outputs": [],
   "source": [
    "def read_entropy_file(filename):\n",
    "    with open(output_filename) as f:\n",
    "        data = f.readlines()\n",
    "    return float(data[0].strip(\"\\n\").split(\"=\")[1].strip())"
   ]
  },
  {
   "cell_type": "code",
   "execution_count": 4,
   "metadata": {},
   "outputs": [],
   "source": [
    "program = f\"{compiled_dir}{os.sep}density_matrix\""
   ]
  },
  {
   "cell_type": "code",
   "execution_count": 5,
   "metadata": {},
   "outputs": [
    {
     "name": "stdout",
     "output_type": "stream",
     "text": [
      "[2, 3, 4, 5, 6, 7, 8, 9, 10]\n"
     ]
    }
   ],
   "source": [
    "N = list(range(2, 11))\n",
    "print(N)"
   ]
  },
  {
   "cell_type": "code",
   "execution_count": 6,
   "metadata": {},
   "outputs": [],
   "source": [
    "entropy = np.empty((len(N), len(N) + 2))\n",
    "entropy[:] = np.nan"
   ]
  },
  {
   "cell_type": "code",
   "execution_count": 7,
   "metadata": {},
   "outputs": [],
   "source": [
    "for idx1, n in enumerate(N):\n",
    "    for idx2, m in enumerate(range(n + 1)):\n",
    "        output_filename = f\"{data_dir}{os.sep}density_mat_N{n}_M{m}.txt\"\n",
    "        output = subprocess.run(\n",
    "            [\n",
    "                program,\n",
    "                \"--type\", \"generic\",\n",
    "                \"--N\", str(n),\n",
    "                \"--M\", str(m),\n",
    "                \"--output_filename\", output_filename\n",
    "            ],\n",
    "            stdout=subprocess.PIPE\n",
    "        )\n",
    "        entropy[idx1, idx2] = read_entropy_file(output_filename)"
   ]
  },
  {
   "cell_type": "code",
   "execution_count": 8,
   "metadata": {},
   "outputs": [
    {
     "data": {
      "image/png": "[encoded data removed]",
      "text/plain": [
       "<Figure size 640x480 with 2 Axes>"
      ]
     },
     "metadata": {},
     "output_type": "display_data"
    }
   ],
   "source": [
    "plt.imshow(\n",
    "    entropy,\n",
    "    origin=\"lower\",\n",
    "    extent=[0, 10, 2, 10],\n",
    "    cmap=\"plasma\",\n",
    "    aspect=\"auto\"\n",
    ")\n",
    "plt.xlabel(\"Size of right bipartition\")\n",
    "plt.ylabel(\"Number of total subsystems\")\n",
    "plt.colorbar()\n",
    "plt.clim([0, 3])\n",
    "plt.savefig(f\"{plot_dir}{os.sep}entropy_heat_map.pdf\", format=\"pdf\", bbox_inches=\"tight\")"
   ]
  },
  {
   "cell_type": "code",
   "execution_count": 9,
   "metadata": {},
   "outputs": [
    {
     "data": {
      "image/png": "[encoded data removed]",
      "text/plain": [
       "<Figure size 640x480 with 1 Axes>"
      ]
     },
     "metadata": {},
     "output_type": "display_data"
    }
   ],
   "source": [
    "plt.plot(entropy[8], lw=3)\n",
    "plt.xlim([0, 10])\n",
    "plt.xlabel(\"Size of right partition\")\n",
    "plt.ylabel(\"Entropy\")\n",
    "plt.grid()\n",
    "plt.ylim([0, 3])\n",
    "plt.savefig(f\"{plot_dir}{os.sep}entropy_N10.pdf\", format=\"pdf\", bbox_inches=\"tight\")"
   ]
  }
 ],
 "metadata": {
  "kernelspec": {
   "display_name": "Python 3 (ipykernel)",
   "language": "python",
   "name": "python3"
  },
  "language_info": {
   "codemirror_mode": {
    "name": "ipython",
    "version": 3
   },
   "file_extension": ".py",
   "mimetype": "text/x-python",
   "name": "python",
   "nbconvert_exporter": "python",
   "pygments_lexer": "ipython3",
   "version": "3.10.3"
  },
  "vscode": {
   "interpreter": {
    "hash": "28048a3710f5e748db865877f52ccdd715a7a41a4c531137fa656997303b8520"
   }
  }
 },
 "nbformat": 4,
 "nbformat_minor": 2
}
