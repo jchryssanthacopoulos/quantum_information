{
 "cells": [
  {
   "cell_type": "markdown",
   "metadata": {},
   "source": [
    "# Time-evolving Block Decimation on Finite Spin Chains"
   ]
  },
  {
   "cell_type": "code",
   "execution_count": 1,
   "metadata": {},
   "outputs": [],
   "source": [
    "import quimb.tensor as qtn\n",
    "\n",
    "from tebd.hamiltonian import LocalIsingHamiltonian\n",
    "from tebd.hamiltonian import IsingHamiltonian\n",
    "from tebd.matrix_product_states import MatrixProductState\n",
    "from tebd.tebd import run_tebd\n",
    "from tebd.tebd import TEBD"
   ]
  },
  {
   "cell_type": "code",
   "execution_count": 2,
   "metadata": {},
   "outputs": [],
   "source": [
    "d = 2\n",
    "N = 3\n",
    "bond_dim = 10"
   ]
  },
  {
   "cell_type": "code",
   "execution_count": 3,
   "metadata": {},
   "outputs": [],
   "source": [
    "lmda = 0\n",
    "loc_ham_ising = LocalIsingHamiltonian(N, lmda)\n",
    "glob_ham_ising = IsingHamiltonian(N, lmda)"
   ]
  },
  {
   "cell_type": "code",
   "execution_count": 4,
   "metadata": {},
   "outputs": [
    {
     "data": {
      "text/plain": [
       "[[0.+0.j 0.+0.j 0.+0.j 1.+0.j]\n",
       " [0.+0.j 0.+0.j 1.+0.j 0.+0.j]\n",
       " [0.+0.j 1.+0.j 0.+0.j 0.+0.j]\n",
       " [1.+0.j 0.+0.j 0.+0.j 0.+0.j]]"
      ]
     },
     "execution_count": 4,
     "metadata": {},
     "output_type": "execute_result"
    }
   ],
   "source": [
    "loc_ham_ising.hamiltonians[0]"
   ]
  },
  {
   "cell_type": "code",
   "execution_count": 5,
   "metadata": {},
   "outputs": [],
   "source": [
    "MPS = MatrixProductState(d=2, N=N, bond_dim=bond_dim)"
   ]
  },
  {
   "cell_type": "code",
   "execution_count": 6,
   "metadata": {},
   "outputs": [
    {
     "data": {
      "text/plain": [
       "[Tensor(shape=(2, 10), inds=('k0', 'i0'), tags=oset(['state 1'])),\n",
       " Tensor(shape=(10, 2, 10), inds=('i0', 'k1', 'i1'), tags=oset(['state 2'])),\n",
       " Tensor(shape=(10, 2), inds=('i1', 'k2'), tags=oset(['state 3']))]"
      ]
     },
     "execution_count": 6,
     "metadata": {},
     "output_type": "execute_result"
    }
   ],
   "source": [
    "MPS.data"
   ]
  },
  {
   "cell_type": "code",
   "execution_count": 7,
   "metadata": {},
   "outputs": [
    {
     "data": {
      "image/png": "[encoded data removed]",
      "text/plain": [
       "<Figure size 600x600 with 1 Axes>"
      ]
     },
     "metadata": {},
     "output_type": "display_data"
    }
   ],
   "source": [
    "qtn.TensorNetwork(MPS.data).draw()"
   ]
  },
  {
   "cell_type": "markdown",
   "metadata": {},
   "source": [
    "Make sure the state is normalized."
   ]
  },
  {
   "cell_type": "code",
   "execution_count": 8,
   "metadata": {},
   "outputs": [
    {
     "data": {
      "text/plain": [
       "1.0000000000000002"
      ]
     },
     "execution_count": 8,
     "metadata": {},
     "output_type": "execute_result"
    }
   ],
   "source": [
    "MPS.norm()"
   ]
  },
  {
   "cell_type": "markdown",
   "metadata": {},
   "source": [
    "Look at the density matrix."
   ]
  },
  {
   "cell_type": "code",
   "execution_count": 9,
   "metadata": {},
   "outputs": [],
   "source": [
    "rho = MPS.rho()"
   ]
  },
  {
   "cell_type": "code",
   "execution_count": 10,
   "metadata": {},
   "outputs": [
    {
     "data": {
      "image/png": "[encoded data removed]",
      "text/plain": [
       "<Figure size 500x500 with 1 Axes>"
      ]
     },
     "metadata": {},
     "output_type": "display_data"
    }
   ],
   "source": [
    "rho.draw(figsize=(5, 5))"
   ]
  },
  {
   "cell_type": "markdown",
   "metadata": {},
   "source": [
    "Create TEBD object."
   ]
  },
  {
   "cell_type": "code",
   "execution_count": 11,
   "metadata": {},
   "outputs": [],
   "source": [
    "tebd_obj = TEBD(MPS, loc_ham_ising, glob_ham_ising, evol_type=\"imag\")"
   ]
  },
  {
   "cell_type": "markdown",
   "metadata": {},
   "source": [
    "Evolve state."
   ]
  },
  {
   "cell_type": "code",
   "execution_count": 12,
   "metadata": {},
   "outputs": [],
   "source": [
    "tau = 0.1\n",
    "num_iter = 2000\n",
    "mid_steps = 100"
   ]
  },
  {
   "cell_type": "markdown",
   "metadata": {},
   "source": [
    "The energy goes to $-N + 1 = -2$."
   ]
  },
  {
   "cell_type": "code",
   "execution_count": 13,
   "metadata": {},
   "outputs": [
    {
     "name": "stdout",
     "output_type": "stream",
     "text": [
      "Iteration: 0 of 2000, energy: 1.9452278317504315\n",
      "Iteration: 100 of 2000, energy: -1.9999999999999996\n",
      "Iteration: 200 of 2000, energy: -2.0\n",
      "Iteration: 300 of 2000, energy: -1.9999999999999993\n",
      "Iteration: 400 of 2000, energy: -1.9999999999999996\n",
      "Iteration: 500 of 2000, energy: -2.0\n",
      "Iteration: 600 of 2000, energy: -1.9999999999999996\n",
      "Iteration: 700 of 2000, energy: -1.9999999999999996\n",
      "Iteration: 800 of 2000, energy: -1.9999999999999996\n",
      "Iteration: 900 of 2000, energy: -1.9999999999999996\n",
      "Iteration: 1000 of 2000, energy: -1.9999999999999996\n",
      "Iteration: 1100 of 2000, energy: -1.9999999999999996\n",
      "Iteration: 1200 of 2000, energy: -1.9999999999999996\n",
      "Iteration: 1300 of 2000, energy: -1.9999999999999996\n",
      "Iteration: 1400 of 2000, energy: -1.9999999999999996\n",
      "Iteration: 1500 of 2000, energy: -1.9999999999999996\n",
      "Iteration: 1600 of 2000, energy: -1.9999999999999996\n",
      "Iteration: 1700 of 2000, energy: -1.9999999999999996\n",
      "Iteration: 1800 of 2000, energy: -1.9999999999999996\n",
      "Iteration: 1900 of 2000, energy: -1.9999999999999996\n"
     ]
    }
   ],
   "source": [
    "run_tebd(tebd_obj, tau, num_iter, mid_steps)"
   ]
  }
 ],
 "metadata": {
  "kernelspec": {
   "display_name": "tebd-env",
   "language": "python",
   "name": "tebd-env"
  },
  "language_info": {
   "codemirror_mode": {
    "name": "ipython",
    "version": 3
   },
   "file_extension": ".py",
   "mimetype": "text/x-python",
   "name": "python",
   "nbconvert_exporter": "python",
   "pygments_lexer": "ipython3",
   "version": "3.10.3"
  }
 },
 "nbformat": 4,
 "nbformat_minor": 2
}
